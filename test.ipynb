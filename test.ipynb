{
    "cells": [
        {
            "cell_type": "markdown",
            "metadata": {},
            "source": [
                "# Plan recommender"
            ]
        },
        {
            "cell_type": "markdown",
            "metadata": {},
            "source": [
                "You have access to behavior data about subscribers who have already switched to the new plans (from the project for the Statistical Data Analysis course). For this classification task, you need to develop a model that will pick the right plan. Since you’ve already performed the data preprocessing step, you can move straight to creating the model.\n",
                "\n",
                "Develop a model with the highest possible *accuracy*. In this project, the threshold for accuracy is 0.75. Check the *accuracy* using the test dataset."
            ]
        },
        {
            "cell_type": "code",
            "execution_count": 2,
            "metadata": {},
            "outputs": [],
            "source": [
                "import pandas as pd\n",
                "from sklearn.tree import DecisionTreeClassifier\n",
                "from sklearn.ensemble import RandomForestClassifier\n",
                "from sklearn.linear_model import LogisticRegression\n",
                "from sklearn.model_selection import train_test_split"
            ]
        },
        {
            "cell_type": "markdown",
            "metadata": {},
            "source": [
                "# 1. Loading data"
            ]
        },
        {
            "cell_type": "code",
            "execution_count": 4,
            "metadata": {},
            "outputs": [
                {
                    "data": {
                        "text/html": [
                            "<div>\n",
                            "<style scoped>\n",
                            "    .dataframe tbody tr th:only-of-type {\n",
                            "        vertical-align: middle;\n",
                            "    }\n",
                            "\n",
                            "    .dataframe tbody tr th {\n",
                            "        vertical-align: top;\n",
                            "    }\n",
                            "\n",
                            "    .dataframe thead th {\n",
                            "        text-align: right;\n",
                            "    }\n",
                            "</style>\n",
                            "<table border=\"1\" class=\"dataframe\">\n",
                            "  <thead>\n",
                            "    <tr style=\"text-align: right;\">\n",
                            "      <th></th>\n",
                            "      <th>calls</th>\n",
                            "      <th>minutes</th>\n",
                            "      <th>messages</th>\n",
                            "      <th>mb_used</th>\n",
                            "      <th>is_ultra</th>\n",
                            "    </tr>\n",
                            "  </thead>\n",
                            "  <tbody>\n",
                            "    <tr>\n",
                            "      <th>0</th>\n",
                            "      <td>40.0</td>\n",
                            "      <td>311.90</td>\n",
                            "      <td>83.0</td>\n",
                            "      <td>19915.42</td>\n",
                            "      <td>0</td>\n",
                            "    </tr>\n",
                            "    <tr>\n",
                            "      <th>1</th>\n",
                            "      <td>85.0</td>\n",
                            "      <td>516.75</td>\n",
                            "      <td>56.0</td>\n",
                            "      <td>22696.96</td>\n",
                            "      <td>0</td>\n",
                            "    </tr>\n",
                            "    <tr>\n",
                            "      <th>2</th>\n",
                            "      <td>77.0</td>\n",
                            "      <td>467.66</td>\n",
                            "      <td>86.0</td>\n",
                            "      <td>21060.45</td>\n",
                            "      <td>0</td>\n",
                            "    </tr>\n",
                            "    <tr>\n",
                            "      <th>3</th>\n",
                            "      <td>106.0</td>\n",
                            "      <td>745.53</td>\n",
                            "      <td>81.0</td>\n",
                            "      <td>8437.39</td>\n",
                            "      <td>1</td>\n",
                            "    </tr>\n",
                            "    <tr>\n",
                            "      <th>4</th>\n",
                            "      <td>66.0</td>\n",
                            "      <td>418.74</td>\n",
                            "      <td>1.0</td>\n",
                            "      <td>14502.75</td>\n",
                            "      <td>0</td>\n",
                            "    </tr>\n",
                            "  </tbody>\n",
                            "</table>\n",
                            "</div>"
                        ],
                        "text/plain": [
                            "   calls  minutes  messages   mb_used  is_ultra\n",
                            "0   40.0   311.90      83.0  19915.42         0\n",
                            "1   85.0   516.75      56.0  22696.96         0\n",
                            "2   77.0   467.66      86.0  21060.45         0\n",
                            "3  106.0   745.53      81.0   8437.39         1\n",
                            "4   66.0   418.74       1.0  14502.75         0"
                        ]
                    },
                    "execution_count": 4,
                    "metadata": {},
                    "output_type": "execute_result"
                }
            ],
            "source": [
                "df = pd.read_csv('users_behavior.csv')\n",
                "df.head()"
            ]
        },
        {
            "cell_type": "code",
            "execution_count": 35,
            "metadata": {},
            "outputs": [
                {
                    "name": "stdout",
                    "output_type": "stream",
                    "text": [
                        "<class 'pandas.core.frame.DataFrame'>\n",
                        "RangeIndex: 3214 entries, 0 to 3213\n",
                        "Data columns (total 5 columns):\n",
                        "calls       3214 non-null float64\n",
                        "minutes     3214 non-null float64\n",
                        "messages    3214 non-null float64\n",
                        "mb_used     3214 non-null float64\n",
                        "is_ultra    3214 non-null int64\n",
                        "dtypes: float64(4), int64(1)\n",
                        "memory usage: 125.6 KB\n",
                        "None\n"
                    ]
                }
            ],
            "source": [
                "print(df.info())"
            ]
        },
        {
            "cell_type": "markdown",
            "metadata": {},
            "source": [
                "# 2. Splitting data into sets"
            ]
        },
        {
            "cell_type": "code",
            "execution_count": 10,
            "metadata": {},
            "outputs": [
                {
                    "name": "stdout",
                    "output_type": "stream",
                    "text": [
                        "(1928, 4)\n",
                        "(643, 4)\n",
                        "(643, 4)\n"
                    ]
                }
            ],
            "source": [
                "from sklearn.model_selection import train_test_split\n",
                "\n",
                "train_valid, test = train_test_split(df, test_size=0.2)\n",
                "train, valid = train_test_split(train_valid, test_size=0.25)\n",
                "\n",
                "features_train = train.drop(['is_ultra'], axis=1)\n",
                "target_train = train['is_ultra']\n",
                "features_valid = valid.drop(['is_ultra'], axis=1)\n",
                "target_valid = valid['is_ultra']\n",
                "features_test = test.drop(['is_ultra'], axis=1)\n",
                "target_test = test['is_ultra']\n",
                "\n",
                "print(features_train.shape)\n",
                "print(features_valid.shape)\n",
                "print(features_test.shape)"
            ]
        },
        {
            "cell_type": "markdown",
            "metadata": {},
            "source": [
                "# 3. Tuning models"
            ]
        },
        {
            "cell_type": "code",
            "execution_count": 29,
            "metadata": {},
            "outputs": [
                {
                    "name": "stdout",
                    "output_type": "stream",
                    "text": [
                        "Decision Tree\n",
                        "max_depth = 1\n",
                        "Train: 0.7515560165975104\n",
                        "Valid: 0.749611197511664\n",
                        "max_depth = 2\n",
                        "Train: 0.7863070539419087\n",
                        "Valid: 0.7807153965785381\n",
                        "max_depth = 3\n",
                        "Train: 0.8018672199170125\n",
                        "Valid: 0.7916018662519441\n",
                        "max_depth = 4\n",
                        "Train: 0.8112033195020747\n",
                        "Valid: 0.7916018662519441\n",
                        "max_depth = 5\n",
                        "Train: 0.8184647302904564\n",
                        "Valid: 0.7947122861586314\n",
                        "max_depth = 6\n",
                        "Train: 0.8298755186721992\n",
                        "Valid: 0.7962674961119751\n",
                        "max_depth = 7\n",
                        "Train: 0.8423236514522822\n",
                        "Valid: 0.7993779160186625\n",
                        "max_depth = 8\n",
                        "Train: 0.8568464730290456\n",
                        "Valid: 0.807153965785381\n",
                        "max_depth = 9\n",
                        "Train: 0.8661825726141079\n",
                        "Valid: 0.80248833592535\n",
                        "max_depth = 10\n",
                        "Train: 0.8755186721991701\n",
                        "Valid: 0.7900466562986003\n"
                    ]
                }
            ],
            "source": [
                "print(\"Decision Tree\")\n",
                "for depth in range(1, 11):\n",
                "    model = DecisionTreeClassifier(max_depth=depth, random_state=12345)\n",
                "    model.fit(features_train, target_train)\n",
                "    print(\"max_depth =\", depth)\n",
                "    print(\"Train:\", model.score(features_train, target_train))\n",
                "    print(\"Valid:\", model.score(features_valid, target_valid))"
            ]
        },
        {
            "cell_type": "code",
            "execution_count": 18,
            "metadata": {},
            "outputs": [
                {
                    "name": "stdout",
                    "output_type": "stream",
                    "text": [
                        "Random Forest\n",
                        "n_estimators = 10\n",
                        "Train: 0.9813278008298755\n",
                        "Valid: 0.8055987558320373\n",
                        "n_estimators = 20\n",
                        "Train: 0.9901452282157677\n",
                        "Valid: 0.8087091757387247\n",
                        "n_estimators = 30\n",
                        "Train: 0.9953319502074689\n",
                        "Valid: 0.807153965785381\n",
                        "n_estimators = 40\n",
                        "Train: 0.9989626556016598\n",
                        "Valid: 0.8055987558320373\n",
                        "n_estimators = 50\n",
                        "Train: 0.9989626556016598\n",
                        "Valid: 0.7993779160186625\n",
                        "n_estimators = 60\n",
                        "Train: 1.0\n",
                        "Valid: 0.8102643856920684\n",
                        "n_estimators = 70\n",
                        "Train: 1.0\n",
                        "Valid: 0.8055987558320373\n",
                        "n_estimators = 80\n",
                        "Train: 1.0\n",
                        "Valid: 0.8164852255054432\n",
                        "n_estimators = 90\n",
                        "Train: 1.0\n",
                        "Valid: 0.8102643856920684\n",
                        "n_estimators = 100\n",
                        "Train: 1.0\n",
                        "Valid: 0.8149300155520995\n"
                    ]
                }
            ],
            "source": [
                "print(\"Random Forest\")\n",
                "for estim in range(10, 101, 10):\n",
                "    model = RandomForestClassifier(n_estimators=estim, random_state=12345)\n",
                "    model.fit(features_train, target_train)\n",
                "    print(\"n_estimators =\", estim)\n",
                "    print(\"Train:\", model.score(features_train, target_train))\n",
                "    print(\"Valid:\", model.score(features_valid, target_valid))"
            ]
        },
        {
            "cell_type": "code",
            "execution_count": 19,
            "metadata": {},
            "outputs": [
                {
                    "name": "stdout",
                    "output_type": "stream",
                    "text": [
                        "Logistic Regression\n",
                        "Train: 0.7100622406639004\n",
                        "Valid: 0.7076205287713841\n"
                    ]
                },
                {
                    "name": "stderr",
                    "output_type": "stream",
                    "text": [
                        "/usr/local/lib/python3.7/site-packages/sklearn/linear_model/logistic.py:432: FutureWarning: Default solver will be changed to 'lbfgs' in 0.22. Specify a solver to silence this warning.\n",
                        "  FutureWarning)\n"
                    ]
                }
            ],
            "source": [
                "print(\"Logistic Regression\")\n",
                "model = LogisticRegression(random_state=12345)\n",
                "model.fit(features_train, target_train)\n",
                "print(\"Train:\", model.score(features_train, target_train))\n",
                "print(\"Valid:\", model.score(features_valid, target_valid))"
            ]
        },
        {
            "cell_type": "markdown",
            "metadata": {},
            "source": [
                "### Findings\n",
                "\n",
                "- Linear regression shows the worst performance but it is not overfitted\n",
                "- Decision tree is overfitted but the accuracy is higher\n",
                "- Random forrest is also overfitted but the accuracy is slightly higher compared to decision tree"
            ]
        },
        {
            "cell_type": "markdown",
            "metadata": {},
            "source": [
                "# 4. Testing model"
            ]
        },
        {
            "cell_type": "code",
            "execution_count": 20,
            "metadata": {},
            "outputs": [],
            "source": [
                "features_full_train = train_valid.drop(['is_ultra'], axis=1)\n",
                "target_full_train = train_valid['is_ultra']"
            ]
        },
        {
            "cell_type": "code",
            "execution_count": 28,
            "metadata": {},
            "outputs": [
                {
                    "data": {
                        "text/plain": [
                            "0.7869362363919129"
                        ]
                    },
                    "execution_count": 28,
                    "metadata": {},
                    "output_type": "execute_result"
                }
            ],
            "source": [
                "model = RandomForestClassifier(n_estimators=80, random_state=12345)\n",
                "model.fit(features_full_train, target_full_train)\n",
                "model.score(features_test, target_test)"
            ]
        },
        {
            "cell_type": "markdown",
            "metadata": {},
            "source": [
                "# 5. Additional task: sanity check"
            ]
        },
        {
            "cell_type": "code",
            "execution_count": 7,
            "metadata": {},
            "outputs": [
                {
                    "data": {
                        "text/plain": [
                            "0    0.693528\n",
                            "1    0.306472\n",
                            "Name: is_ultra, dtype: float64"
                        ]
                    },
                    "execution_count": 7,
                    "metadata": {},
                    "output_type": "execute_result"
                }
            ],
            "source": [
                "df['is_ultra'].value_counts() / df.shape[0]"
            ]
        },
        {
            "cell_type": "markdown",
            "metadata": {},
            "source": [
                "Sanity check score is ~69%, so the logistic regression hasn't learned much."
            ]
        }
    ],
    "metadata": {
        "kernelspec": {
            "display_name": "Python 3",
            "language": "python",
            "name": "python3"
        },
        "language_info": {
            "codemirror_mode": {
                "name": "ipython",
                "version": 3
            },
            "file_extension": ".py",
            "mimetype": "text/x-python",
            "name": "python",
            "nbconvert_exporter": "python",
            "pygments_lexer": "ipython3",
            "version": "3.7.0"
        }
    },
    "nbformat": 4,
    "nbformat_minor": 2
}